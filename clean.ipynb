{
 "cells": [
  {
   "cell_type": "code",
   "execution_count": 1,
   "metadata": {},
   "outputs": [
    {
     "name": "stderr",
     "output_type": "stream",
     "text": [
      "Setting default log level to \"WARN\".\n",
      "To adjust logging level use sc.setLogLevel(newLevel). For SparkR, use setLogLevel(newLevel).\n"
     ]
    },
    {
     "name": "stdout",
     "output_type": "stream",
     "text": [
      "22/11/30 10:13:09 WARN NativeCodeLoader: Unable to load native-hadoop library for your platform... using builtin-java classes where applicable\n"
     ]
    },
    {
     "name": "stderr",
     "output_type": "stream",
     "text": [
      "                                                                                \r"
     ]
    },
    {
     "name": "stdout",
     "output_type": "stream",
     "text": [
      "22/11/30 10:13:18 WARN package: Truncated the string representation of a plan since it was too large. This behavior can be adjusted by setting 'spark.sql.debug.maxToStringFields'.\n"
     ]
    },
    {
     "name": "stderr",
     "output_type": "stream",
     "text": [
      "                                                                                \r"
     ]
    }
   ],
   "source": [
    "#import\n",
    "import pandas as pd\n",
    "import glob\n",
    "import json\n",
    "import os\n",
    "import shutil\n",
    "import time\n",
    "\n",
    "from pyspark.sql import SparkSession\n",
    "from pyspark.sql.functions import substring, length, col, expr, trim, sum\n",
    "from pyspark.sql.types import IntegerType\n",
    "\n",
    "#start timer\n",
    "start_time = time.time()\n",
    "\n",
    "# Create a Spark session\n",
    "spark = SparkSession.builder \\\n",
    "    .master(\"local[*]\") \\\n",
    "    .appName(\"Artist Word Association\") \\\n",
    "    .getOrCreate()\n",
    "\n",
    "#read data\n",
    "data1 = spark.read.json('data_split1.json', multiLine=True)\n",
    "data2 = spark.read.json('data_split2.json', multiLine=True)\n",
    "data3 = spark.read.json('data_split3.json', multiLine=True)\n",
    "data4 = spark.read.json('data_split4.json', multiLine=True)\n",
    "\n",
    "#select columns that we might need\n",
    "deleteddf1 = data1.select('created_at', col(\"id\").alias(\"tweet_id\"), 'full_text', 'coordinates',\n",
    "    'place','retweet_count', 'favorite_count','lang', 'entities.hashtags',\n",
    "    'entities.symbols', 'entities.user_mentions', 'entities.urls', col('user.id').alias(\"userid\"), \n",
    "    'user.name', 'user.screen_name', 'user.location', 'user.description', 'user.url', \n",
    "    'user.followers_count', 'user.profile_image_url_https', 'user.statuses_count')\n",
    "\n",
    "deleteddf2 = data2.select('created_at', col(\"id\").alias(\"tweet_id\"), 'full_text', 'coordinates',\n",
    "    'place','retweet_count', 'favorite_count','lang', 'entities.hashtags',\n",
    "    'entities.symbols', 'entities.user_mentions', 'entities.urls', col('user.id').alias(\"userid\"), \n",
    "    'user.name', 'user.screen_name', 'user.location', 'user.description', 'user.url', \n",
    "    'user.followers_count', 'user.profile_image_url_https', 'user.statuses_count')\n",
    "\n",
    "deleteddf3 = data3.select('created_at', col(\"id\").alias(\"tweet_id\"), 'full_text', 'coordinates',\n",
    "    'place','retweet_count', 'favorite_count','lang', 'entities.hashtags',\n",
    "    'entities.symbols', 'entities.user_mentions', 'entities.urls', col('user.id').alias(\"userid\"), \n",
    "    'user.name', 'user.screen_name', 'user.location', 'user.description', 'user.url', \n",
    "    'user.followers_count', 'user.profile_image_url_https', 'user.statuses_count')\n",
    "\n",
    "deleteddf4 = data4.select('created_at', col(\"id\").alias(\"tweet_id\"), 'full_text', 'coordinates',\n",
    "    'place','retweet_count', 'favorite_count','lang', 'entities.hashtags',\n",
    "    'entities.symbols', 'entities.user_mentions', 'entities.urls', col('user.id').alias(\"userid\"), \n",
    "    'user.name', 'user.screen_name', 'user.location', 'user.description', 'user.url', \n",
    "    'user.followers_count', 'user.profile_image_url_https', 'user.statuses_count')\n",
    "\n",
    "#rename columns\n",
    "deleteddf1 = deleteddf1.withColumn(\"created_at_month\", substring(\"created_at\", 5, 3)) \\\n",
    "    .withColumn(\"created_at_year\", substring(\"created_at\", 27, 4))\n",
    "deleteddf1 = deleteddf1.drop('created_at')\n",
    "\n",
    "deleteddf2 = deleteddf2.withColumn(\"created_at_month\", substring(\"created_at\", 5, 3)) \\\n",
    "    .withColumn(\"created_at_year\", substring(\"created_at\", 27, 4))\n",
    "deleteddf2 = deleteddf2.drop('created_at')\n",
    "\n",
    "deleteddf3 = deleteddf3.withColumn(\"created_at_month\", substring(\"created_at\", 5, 3)) \\\n",
    "    .withColumn(\"created_at_year\", substring(\"created_at\", 27, 4))\n",
    "deleteddf3 = deleteddf3.drop('created_at')\n",
    "\n",
    "deleteddf4 = deleteddf4.withColumn(\"created_at_month\", substring(\"created_at\", 5, 3)) \\\n",
    "    .withColumn(\"created_at_year\", substring(\"created_at\", 27, 4))\n",
    "deleteddf4 = deleteddf4.drop('created_at')"
   ]
  },
  {
   "cell_type": "code",
   "execution_count": 5,
   "metadata": {},
   "outputs": [],
   "source": [
    "artistInfo_df1 = deleteddf1.select(col('name').alias('screenName'), col('screen_name').alias('handle'), col('profile_image_url_https').alias('URL')).distinct()\n",
    "artistInfo_df2 = deleteddf2.select(col('name').alias('screenName'), col('screen_name').alias('handle'), col('profile_image_url_https').alias('URL')).distinct()\n",
    "artistInfo_df3 = deleteddf3.select(col('name').alias('screenName'), col('screen_name').alias('handle'), col('profile_image_url_https').alias('URL')).distinct()\n",
    "artistInfo_df4 = deleteddf4.select(col('name').alias('screenName'), col('screen_name').alias('handle'), col('profile_image_url_https').alias('URL')).distinct()"
   ]
  },
  {
   "cell_type": "code",
   "execution_count": 6,
   "metadata": {},
   "outputs": [
    {
     "name": "stderr",
     "output_type": "stream",
     "text": [
      "                                                                                \r"
     ]
    }
   ],
   "source": [
    "infomerge_df = artistInfo_df1.union(artistInfo_df2).union(artistInfo_df3).union(artistInfo_df4)\n",
    "\n",
    "infomerge_df \\\n",
    "    .repartition(1) \\\n",
    "    .write.csv(\"infooutput\", sep=\"\\t\", header=True, mode=\"overwrite\")"
   ]
  }
 ],
 "metadata": {
  "kernelspec": {
   "display_name": "Python 3.10.6 ('cs179g')",
   "language": "python",
   "name": "python3"
  },
  "language_info": {
   "codemirror_mode": {
    "name": "ipython",
    "version": 3
   },
   "file_extension": ".py",
   "mimetype": "text/x-python",
   "name": "python",
   "nbconvert_exporter": "python",
   "pygments_lexer": "ipython3",
   "version": "3.10.6"
  },
  "orig_nbformat": 4,
  "vscode": {
   "interpreter": {
    "hash": "131e8f2f24b32bb57d84badcf52f8e7862cfbd5a00561f9b7451e42795825537"
   }
  }
 },
 "nbformat": 4,
 "nbformat_minor": 2
}
